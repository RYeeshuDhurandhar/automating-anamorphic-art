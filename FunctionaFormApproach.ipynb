{
  "cells": [
    {
      "cell_type": "code",
      "execution_count": 1,
      "metadata": {
        "id": "ZqsIlNNEFlc_"
      },
      "outputs": [],
      "source": [
        "import torch\n",
        "from mpl_toolkits.mplot3d import Axes3D\n",
        "import matplotlib.pyplot as plt\n",
        "import pandas as pd\n",
        "import numpy as np\n",
        "from matplotlib.path import Path\n",
        "import torch.nn.functional as F"
      ]
    },
    {
      "cell_type": "code",
      "execution_count": null,
      "metadata": {},
      "outputs": [],
      "source": [
        "min_xyz = -4\n",
        "max_xyz = 4\n",
        "axis_len = max_xyz - min_xyz\n",
        "axis_num_pts = 80\n",
        "x = torch.linspace(min_xyz, max_xyz, axis_num_pts)\n",
        "y = torch.linspace(min_xyz, max_xyz, axis_num_pts)\n",
        "z = torch.linspace(min_xyz, max_xyz, axis_num_pts)\n",
        "X, Y, Z = torch.meshgrid(x, y, z)\n",
        "stacked_tensor = torch.stack([X, Y, Z], dim=3)\n",
        "reshaped_tensor = torch.reshape(stacked_tensor, (-1, 3))"
      ]
    },
    {
      "cell_type": "code",
      "execution_count": 3,
      "metadata": {},
      "outputs": [],
      "source": [
        "def rotate_xyz(p, angles):\n",
        "    '''\n",
        "    Reference: http://www.songho.ca/opengl/gl_anglestoaxes.html\n",
        "    '''\n",
        "    θx, θy, θz = angles\n",
        "    θx = torch.FloatTensor([θx * 3.14159 / 180.0])\n",
        "    θy = torch.FloatTensor([θy * 3.14159 / 180.0])\n",
        "    θz = torch.FloatTensor([θz * 3.14159 / 180.0])\n",
        "    R_zyx = torch.tensor([ \n",
        "        [torch.cos(θz)*torch.cos(θy), -torch.sin(θz)*torch.cos(θx) + torch.cos(θz)*torch.sin(θy)*torch.sin(θx), torch.sin(θz)*torch.sin(θx)+torch.cos(θz)*torch.sin(θy)*torch.cos(θx)],\n",
        "        [torch.sin(θz)*torch.cos(θy), torch.cos(θz)*torch.cos(θx)+torch.sin(θz)*torch.sin(θy)*torch.sin(θx), -torch.cos(θz)*torch.sin(θx)+torch.sin(θz)*torch.sin(θy)*torch.cos(θx)],\n",
        "        [-torch.sin(θy), torch.cos(θy)*torch.sin(θx), torch.cos(θy)*torch.cos(θx)]\n",
        "    ])\n",
        "    return torch.matmul(p, R_zyx.T)"
      ]
    },
    {
      "attachments": {},
      "cell_type": "markdown",
      "metadata": {},
      "source": [
        "## Operations"
      ]
    },
    {
      "cell_type": "code",
      "execution_count": 21,
      "metadata": {},
      "outputs": [],
      "source": [
        "'''\n",
        "compute the element-wise maximum\n",
        "intersection, _ = torch.max(torch.stack([signed_distances1, signed_distances2]), dim=0)\n",
        "union = torch.min(link1_signed_distances, link2_signed_distances)\n",
        "'''"
      ]
    },
    {
      "attachments": {},
      "cell_type": "markdown",
      "metadata": {},
      "source": [
        "# Sphere"
      ]
    },
    {
      "cell_type": "code",
      "execution_count": 4,
      "metadata": {},
      "outputs": [],
      "source": [
        "def sdf_sphere(p, r, center, angles):\n",
        "    p_rotated = rotate_xyz(p, angles)\n",
        "    return torch.sqrt(torch.sum((p_rotated - center)**2, dim=1)) - r"
      ]
    },
    {
      "cell_type": "code",
      "execution_count": 5,
      "metadata": {},
      "outputs": [],
      "source": [
        "r=1\n",
        "center = torch.tensor([1, 1, 1])\n",
        "angles = torch.tensor([0, 0, 0])\n",
        "sphere1_signed_distances_vec = sdf_sphere(reshaped_tensor, r, center, angles)\n",
        "occupancy_vec = ()"
      ]
    },
    {
      "cell_type": "code",
      "execution_count": null,
      "metadata": {},
      "outputs": [],
      "source": [
        "fig = plt.figure()\n",
        "ax = fig.add_subplot(111, projection='3d')\n",
        "\n",
        "# Get the indices of the nonzero elements in the occupancy_vec tensor\n",
        "ax.scatter(reshaped_tensor[sphere1_signed_distances_vec <= 0, 0], reshaped_tensor[sphere1_signed_distances_vec <= 0,1], reshaped_tensor[sphere1_signed_distances_vec <= 0, 2], c='blue', marker='o')\n",
        "ax.set_xlabel('X')\n",
        "ax.set_ylabel('Y')\n",
        "ax.set_zlabel('Z')\n",
        "# ax.view_init(elev=30, azim=100)\n",
        "plt.show()"
      ]
    },
    {
      "attachments": {},
      "cell_type": "markdown",
      "metadata": {},
      "source": [
        "# Box"
      ]
    },
    {
      "cell_type": "code",
      "execution_count": 34,
      "metadata": {},
      "outputs": [],
      "source": [
        "def sdBox(p, b, center, angles):\n",
        "    '''\n",
        "    p = point to be tested, nx3 tensor\n",
        "    b = half the length of box, i.e. coordinates of the corner from the center\n",
        "    center = center of the box\n",
        "    angles = rotation angles in degrees\n",
        "    '''\n",
        "    p_rotated = rotate_xyz(p, angles)\n",
        "    q = torch.abs(p_rotated-center) - b\n",
        "    return torch.norm(torch.max(q, torch.tensor([0.,0.,0.])), dim=1) + torch.min(torch.max(q, dim=1)[0], torch.tensor([0.]))"
      ]
    },
    {
      "cell_type": "code",
      "execution_count": 26,
      "metadata": {},
      "outputs": [
        {
          "name": "stdout",
          "output_type": "stream",
          "text": [
            "box_signed_distances shape: torch.Size([1000000])\n"
          ]
        }
      ],
      "source": [
        "b = torch.tensor([1, 1, 1])\n",
        "center = torch.tensor([1, 1, 1])\n",
        "angles = torch.tensor([30, 0, 0])\n",
        "box_signed_distances = sdBox(reshaped_tensor, b, center, angles)"
      ]
    },
    {
      "cell_type": "code",
      "execution_count": null,
      "metadata": {},
      "outputs": [],
      "source": [
        "fig = plt.figure()\n",
        "ax2 = fig.add_subplot(111, projection='3d')\n",
        "ax2.scatter(reshaped_tensor[box_signed_distances <= 0, 0], reshaped_tensor[box_signed_distances <= 0,1], reshaped_tensor[box_signed_distances <= 0, 2], c='blue', marker='o')\n",
        "ax.set_xlabel('X')\n",
        "ax.set_ylabel('Y')\n",
        "ax.set_zlabel('Z')\n",
        "# ax.view_init(elev=30, azim=100)\n",
        "plt.show()"
      ]
    },
    {
      "attachments": {},
      "cell_type": "markdown",
      "metadata": {},
      "source": [
        "# Torus"
      ]
    },
    {
      "cell_type": "code",
      "execution_count": 72,
      "metadata": {},
      "outputs": [],
      "source": [
        "def sdTorus(p, t, center, angles):\n",
        "    '''\n",
        "    p = point to be tested, nx3 tensor\n",
        "    t = torus parameters as tuple (r, R)\n",
        "    center = center of the torus\n",
        "    angles = rotation angles in degrees\n",
        "    '''\n",
        "    no_points = p.shape[0]\n",
        "    p = rotate_xyz(p, angles)\n",
        "    p = p - center\n",
        "    t = t.reshape(1,2)\n",
        "    temp1 = (torch.norm(p[:, [0,2]], dim=1) - t[:, 0]).reshape(no_points, 1)\n",
        "    temp2 = p[:, 1].reshape(no_points, 1)\n",
        "    q = torch.cat([temp1, temp2], dim=1)\n",
        "    temp3 = (torch.norm(q, dim=1)).reshape(no_points, 1) - t[:, 1]\n",
        "    return temp3.squeeze()\n"
      ]
    },
    {
      "cell_type": "code",
      "execution_count": 73,
      "metadata": {},
      "outputs": [],
      "source": [
        "radius = torch.tensor([3,2])\n",
        "center = torch.tensor([0, 0, 0]).reshape(1,3)\n",
        "angles = torch.tensor([0, 0, 0])\n",
        "torus_signed_distances = sdTorus(reshaped_tensor, radius, center, angles)"
      ]
    },
    {
      "cell_type": "code",
      "execution_count": null,
      "metadata": {},
      "outputs": [],
      "source": [
        "fig = plt.figure()\n",
        "ax = fig.add_subplot(111, projection='3d')\n",
        "ax.scatter(reshaped_tensor[torus_signed_distances <= 0, 0], reshaped_tensor[torus_signed_distances <= 0,1], reshaped_tensor[torus_signed_distances <= 0, 2], c='blue', marker='o')\n",
        "ax.view_init(elev=10, azim=90)\n",
        "plt.show()"
      ]
    },
    {
      "attachments": {},
      "cell_type": "markdown",
      "metadata": {},
      "source": [
        "# Triangular Prism"
      ]
    },
    {
      "cell_type": "code",
      "execution_count": 84,
      "metadata": {},
      "outputs": [],
      "source": [
        "\n",
        "def sdTriPrism(p, h, center, angles):\n",
        "    '''\n",
        "    p = point to be tested, nx3 tensor\n",
        "    h = half height and half width of base triangle, 2-element tensor\n",
        "    center = center of the triangular prism\n",
        "    angles = rotation angles in degrees\n",
        "    Note: The constant 0.866025 in the code is the square root of 3 divided by 2, and is used to simplify the computation of the signed distance function. The 0.866025 factor is the tangent of 60 degrees, the angle between the side face and the base of the prism.\n",
        "    '''\n",
        "    # rotate point\n",
        "    p_rotated = rotate_xyz(p, angles)\n",
        "\n",
        "    # translate to center\n",
        "    p_translated = p_rotated - center\n",
        "    \n",
        "    # compute signed distance\n",
        "    q = torch.abs(p_translated)   # nx3 tensor having absolute values of x, y, z coordinates of p_translated\n",
        "    d = torch.max(torch.cat([q[:, [2]]-h[1], (q[:, [0]]*0.866025 + p_translated[:, [1]]*0.5), (-p_translated[:, [1]])-h[0]*0.5], dim=1), dim=1)[0]\n",
        "\n",
        "    return d"
      ]
    },
    {
      "cell_type": "code",
      "execution_count": 105,
      "metadata": {},
      "outputs": [],
      "source": [
        "h = torch.tensor([4,4])\n",
        "center = torch.tensor([0, 0, 0])\n",
        "angles = torch.tensor([0, 0, 0])\n",
        "triPrism_signed_distances = sdTriPrism(reshaped_tensor, h, center, angles)"
      ]
    },
    {
      "cell_type": "code",
      "execution_count": null,
      "metadata": {},
      "outputs": [],
      "source": [
        "fig = plt.figure()\n",
        "ax2 = fig.add_subplot(111, projection='3d')\n",
        "ax2.scatter(reshaped_tensor[triPrism_signed_distances <= 0, 0], reshaped_tensor[triPrism_signed_distances <= 0,1], reshaped_tensor[triPrism_signed_distances <= 0, 2], c='blue', marker='o')\n",
        "ax2.view_init(elev=30, azim=30)\n",
        "ax2.set_xlabel('X')\n",
        "ax2.set_ylabel('Y')\n",
        "ax2.set_zlabel('Z')\n",
        "plt.show()"
      ]
    },
    {
      "attachments": {},
      "cell_type": "markdown",
      "metadata": {},
      "source": [
        "# Cone"
      ]
    },
    {
      "cell_type": "code",
      "execution_count": 6,
      "metadata": {},
      "outputs": [],
      "source": [
        "def sdCone(p, c, h, center=torch.tensor([0, 0, 0]), angles=torch.tensor([0, 0, 0])):\n",
        "    '''\n",
        "    c is the sin/cos of the angle, h is height. Alternatively pass q instead of (c,h), which is the point at the base in 2D q = torch.tensor([h * c[0] / c[1], -h, 0.0])\n",
        "    '''\n",
        "    reshape_no = p.shape[0]\n",
        "    q = torch.tensor([h * c[0] / c[1], -h]).reshape(2,1)\n",
        "    q_diag = torch.diag(q.squeeze())\n",
        "\n",
        "    # Apply rotation and translation\n",
        "    p_rotated = rotate_xyz(p, angles)\n",
        "    p_rotated_centered = p_rotated - center\n",
        "\n",
        "    # Concatenate norms and elem1 along the second dimension\n",
        "    w = torch.cat((torch.norm(p_rotated_centered[:, [0, 2]], dim=1).unsqueeze(1), p_rotated_centered[:, 1].unsqueeze(1)), dim=1)\n",
        "    \n",
        "    temp2 = torch.clamp(torch.matmul(w, q) / torch.matmul(q.T, q), 0.0, 1.0).reshape(reshape_no, 1)    \n",
        "    a = w - torch.matmul(torch.cat((temp2, temp2), dim=1), q_diag)\n",
        "\n",
        "    b = w - torch.cat((q[0] * torch.clamp(w[:,0] / q[0], 0.0, 1.0).reshape(reshape_no, 1), q[1] * torch.ones(reshape_no, 1)), dim=1)\n",
        "\n",
        "    k = torch.sign(q[1])\n",
        "    d = torch.min(a[:,0] * a[:,0] + a[:,1] * a[:,1], b[:,0] * b[:,0] + b[:,1] * b[:,1])\n",
        "\n",
        "    s = torch.max(k * (w[:, 0] * q[1] - w[:, 1] * q[0]), k * (w[:, 1] - q[1]))\n",
        "    return torch.sqrt(d) * torch.sign(s)"
      ]
    },
    {
      "cell_type": "code",
      "execution_count": 7,
      "metadata": {},
      "outputs": [],
      "source": [
        "α = 45\n",
        "α = torch.FloatTensor([α * 3.141592653589793 / 180])\n",
        "c = torch.FloatTensor([torch.sin(α/2), torch.cos(α/2)])\n",
        "h = torch.FloatTensor([3.0])\n",
        "center = torch.FloatTensor([0, 0, 0])\n",
        "angles = torch.FloatTensor([0, 0, 30])\n",
        "cone_signed_distances = sdCone(reshaped_tensor, c, h, center, angles)"
      ]
    },
    {
      "cell_type": "code",
      "execution_count": null,
      "metadata": {},
      "outputs": [],
      "source": [
        "fig = plt.figure()\n",
        "ax = fig.add_subplot(111, projection='3d')\n",
        "ax.scatter(reshaped_tensor[cone_signed_distances <= 0, 0], reshaped_tensor[cone_signed_distances <= 0,1], reshaped_tensor[cone_signed_distances <= 0, 2], c='blue', marker='o')\n",
        "ax.set_xlabel('X')\n",
        "ax.set_ylabel('Y')\n",
        "ax.set_zlabel('Z')\n",
        "ax.view_init(elev=120, azim=-90)\n",
        "plt.show()"
      ]
    },
    {
      "attachments": {},
      "cell_type": "markdown",
      "metadata": {},
      "source": [
        "# Hexagonal Prism"
      ]
    },
    {
      "cell_type": "code",
      "execution_count": 19,
      "metadata": {},
      "outputs": [],
      "source": [
        "def sdHexPrism(p, h, center, angles):\n",
        "    p = rotate_xyz(p, angles)\n",
        "    p = p - center\n",
        "    no_point = p.shape[0]\n",
        "    k = torch.tensor([-0.8660254, 0.5, 0.57735]).reshape(1, 3)\n",
        "    p = torch.abs(p)\n",
        "    \n",
        "    min_dot = torch.min(k[0,0]*p[:, 0] + k[0,1]*p[:, 1], torch.tensor(0.0)).reshape(no_point, 1)\n",
        "    p[:, :2] -= 2.0 * torch.matmul(min_dot, k[0, :2].reshape(1, 2))\n",
        "\n",
        "    d1 = torch.norm(p[:, :2] - torch.clamp(p[:, 0:2], -k[0, 2] * h[0], k[0,2] * h[0]), dim=1) * torch.sign(p[:, 1] - h[0])\n",
        "    d2 = p[:, 2] - h[1]\n",
        "    d = torch.stack((d1, d2), dim=1)\n",
        "    return torch.min(torch.max(d[:, 0], d[:, 1]), torch.tensor(0.0)) + torch.norm(torch.max(d, torch.tensor(0.0)), dim=1)"
      ]
    },
    {
      "cell_type": "code",
      "execution_count": 20,
      "metadata": {},
      "outputs": [],
      "source": [
        "h = torch.FloatTensor([1.0,4.0])\n",
        "center = torch.FloatTensor([0, 0, 0])\n",
        "angles = torch.FloatTensor([90, 0, 90])\n",
        "# p = torch.FloatTensor([[1, 1, 1], [-1, -2, 2], [1, -2, 3], [1, 3, 2], [2, 1, 2], [3, 4, 5]])\n",
        "hexPrism_signed_distances = sdHexPrism(reshaped_tensor, h, center, angles)"
      ]
    },
    {
      "cell_type": "code",
      "execution_count": null,
      "metadata": {},
      "outputs": [],
      "source": [
        "fig = plt.figure()\n",
        "ax = fig.add_subplot(111, projection='3d')\n",
        "ax.scatter(reshaped_tensor[hexPrism_signed_distances <= 0, 0], reshaped_tensor[hexPrism_signed_distances <= 0,1], reshaped_tensor[hexPrism_signed_distances <= 0, 2], c='blue', marker='o')\n",
        "ax.set_xlabel('X')\n",
        "ax.set_ylabel('Y')\n",
        "ax.set_zlabel('Z')\n",
        "# ax.view_init(elev=45, azim=45)\n",
        "plt.show()"
      ]
    },
    {
      "attachments": {},
      "cell_type": "markdown",
      "metadata": {},
      "source": [
        "# Capsule"
      ]
    },
    {
      "cell_type": "code",
      "execution_count": 23,
      "metadata": {},
      "outputs": [],
      "source": [
        "def sdCapsule(p, a, b, r, center, angles):\n",
        "    \"\"\"\n",
        "    Calculates the signed distance of a point or points to a capsule defined by two end points (a, b) and a radius (r).\n",
        "    \n",
        "    Arguments:\n",
        "    p -- a tensor of size (n, 3) representing the point(s) to calculate the signed distance for\n",
        "    a -- a tensor of size (3,) representing the first end point of the capsule\n",
        "    b -- a tensor of size (3,) representing the second end point of the capsule\n",
        "    r -- a float representing the radius of the capsule\n",
        "    \n",
        "    Returns:\n",
        "    A 1D tensor of size (n,) representing the signed distance(s) of the point(s) to the capsule\n",
        "    \"\"\"\n",
        "    # rotate point\n",
        "    p = rotate_xyz(p, angles)\n",
        "    # translate point\n",
        "    p = p - center\n",
        "\n",
        "    no_points = p.shape[0]\n",
        "    a = a.expand(no_points, -1)  # -1 means expand along that dimension\n",
        "    b = b.expand(no_points, -1)\n",
        "    r = r.expand(no_points, -1)\n",
        "    pa = p - a\n",
        "    ba = b - a\n",
        "    h = torch.clamp(torch.sum(pa * ba, dim=1) / torch.sum(ba * ba, dim = 1), 0, 1).reshape(no_points, 1)\n",
        "    return (torch.norm(pa - ba * h, dim=1).reshape(no_points, 1) - r).squeeze()"
      ]
    },
    {
      "cell_type": "code",
      "execution_count": 28,
      "metadata": {},
      "outputs": [],
      "source": [
        "a = torch.FloatTensor([0,0, 3])\n",
        "b = torch.FloatTensor([0,0, -3])\n",
        "r = torch.FloatTensor([2])\n",
        "center = torch.FloatTensor([2, 0, 0])\n",
        "angles = torch.FloatTensor([30, 0, 0])\n",
        "capsule_signed_distances = sdCapsule(reshaped_tensor, a, b, r, center, angles)"
      ]
    },
    {
      "cell_type": "code",
      "execution_count": null,
      "metadata": {},
      "outputs": [],
      "source": [
        "fig = plt.figure()\n",
        "ax = fig.add_subplot(111, projection='3d')\n",
        "ax.scatter(reshaped_tensor[capsule_signed_distances <= 0, 0], reshaped_tensor[capsule_signed_distances <= 0,1], reshaped_tensor[capsule_signed_distances <= 0, 2], c='blue', marker='o')\n",
        "ax.set_xlabel('X')\n",
        "ax.set_ylabel('Y')\n",
        "ax.set_zlabel('Z')\n",
        "ax.view_init(elev=30, azim=10)\n",
        "plt.show()"
      ]
    },
    {
      "attachments": {},
      "cell_type": "markdown",
      "metadata": {},
      "source": [
        "# Verticle Capsule"
      ]
    },
    {
      "cell_type": "code",
      "execution_count": 43,
      "metadata": {},
      "outputs": [],
      "source": [
        "def sdCapsule2(p, h, r, center, angles):\n",
        "    no_points = p.shape[0]\n",
        "    r = r.expand(no_points, -1)\n",
        "\n",
        "    # rotate point\n",
        "    p = rotate_xyz(p, angles)\n",
        "    # translate point\n",
        "    p = p - center\n",
        "\n",
        "    p[:,1] -= torch.clamp(p[:,1], torch.FloatTensor([0]), h)\n",
        "    return (torch.norm(p, dim=1).reshape(no_points,1) - r).squeeze()"
      ]
    },
    {
      "cell_type": "code",
      "execution_count": 44,
      "metadata": {},
      "outputs": [],
      "source": [
        "h = torch.FloatTensor([5])\n",
        "r = torch.FloatTensor([3])\n",
        "center = torch.FloatTensor([0, 0, 0])\n",
        "angles = torch.FloatTensor([0, 0, 0])\n",
        "capsule_signed_distances2 = sdCapsule2(reshaped_tensor, h, r, center, angles)"
      ]
    },
    {
      "cell_type": "code",
      "execution_count": null,
      "metadata": {},
      "outputs": [],
      "source": [
        "fig = plt.figure()\n",
        "ax = fig.add_subplot(111, projection='3d')\n",
        "ax.scatter(reshaped_tensor[capsule_signed_distances2 <= 0, 0], reshaped_tensor[capsule_signed_distances2 <= 0,1], reshaped_tensor[capsule_signed_distances2 <= 0, 2], c='blue', marker='o')\n",
        "# ax.view_init(elev= 20, azim=0)\n",
        "plt.show()"
      ]
    },
    {
      "attachments": {},
      "cell_type": "markdown",
      "metadata": {},
      "source": [
        "\n",
        "# Octahedron - bound (not exact)"
      ]
    },
    {
      "cell_type": "code",
      "execution_count": 30,
      "metadata": {},
      "outputs": [],
      "source": [
        "def sdOctahedron(p, s, center, angles):\n",
        "    '''\n",
        "    s = size of the octahedron\n",
        "    Constant 0.57735027 = 1/sqrt(3). This scaling factor is necessary to ensure that the distance function is normalized, meaning that the distance at the surface of the shape is equal to 1.\n",
        "    '''\n",
        "    no_points = p.shape[0]\n",
        "    # rotate point\n",
        "    p = rotate_xyz(p, angles)\n",
        "    # translate point\n",
        "    p = p - center\n",
        "\n",
        "    q = torch.abs(p)\n",
        "    return (q[:,0] + q[:,1] + q[:,2] - s)*0.57735027"
      ]
    },
    {
      "cell_type": "code",
      "execution_count": 40,
      "metadata": {},
      "outputs": [],
      "source": [
        "s = torch.FloatTensor([3])\n",
        "center = torch.FloatTensor([0, 0, 0])\n",
        "angles = torch.FloatTensor([0, 0, 0])\n",
        "octahedron_signed_distances = sdOctahedron(reshaped_tensor, s, center, angles)"
      ]
    },
    {
      "cell_type": "code",
      "execution_count": null,
      "metadata": {},
      "outputs": [],
      "source": [
        "fig = plt.figure()\n",
        "ax = fig.add_subplot(111, projection='3d')\n",
        "ax.scatter(reshaped_tensor[octahedron_signed_distances <= 0, 0], reshaped_tensor[octahedron_signed_distances <= 0,1], reshaped_tensor[octahedron_signed_distances <= 0, 2], c='blue', marker='o')\n",
        "ax.set_xlabel('X')\n",
        "ax.set_ylabel('Y')\n",
        "ax.set_zlabel('Z')\n",
        "ax.view_init(elev= 30, azim=30)\n",
        "plt.show()"
      ]
    },
    {
      "attachments": {},
      "cell_type": "markdown",
      "metadata": {},
      "source": [
        "# Ellipsoid - bound (not exact!)"
      ]
    },
    {
      "cell_type": "code",
      "execution_count": 49,
      "metadata": {},
      "outputs": [],
      "source": [
        "def sdEllipsoid(p, r, center, angles):\n",
        "    '''\n",
        "    r: 3D vector r that specifies the radii of the ellipsoid along each axis\n",
        "\n",
        "    '''\n",
        "    no_points = p.shape[0]\n",
        "    # rotate point\n",
        "    p = rotate_xyz(p, angles)\n",
        "    # translate point\n",
        "    p = p - center\n",
        "\n",
        "    r = torch.reshape(r, (1,3))\n",
        "    k0 = torch.norm(p/r, dim=1).reshape(no_points, 1)\n",
        "    k1 = torch.norm(p/(r*r), dim=1).reshape(no_points, 1)\n",
        "    return (k0*(k0-1)/k1).squeeze()"
      ]
    },
    {
      "cell_type": "code",
      "execution_count": 50,
      "metadata": {},
      "outputs": [],
      "source": [
        "r = torch.FloatTensor([3, 1.5, 0.5])\n",
        "center = torch.FloatTensor([0, 0, 0])\n",
        "angles = torch.FloatTensor([0, 0, 0])\n",
        "ellipsoid_signed_distances = sdEllipsoid(reshaped_tensor, r, center, angles)"
      ]
    },
    {
      "cell_type": "code",
      "execution_count": null,
      "metadata": {},
      "outputs": [],
      "source": [
        "fig = plt.figure()\n",
        "ax = fig.add_subplot(111, projection='3d')\n",
        "ax.scatter(reshaped_tensor[ellipsoid_signed_distances <= 0, 0], reshaped_tensor[ellipsoid_signed_distances <= 0,1], reshaped_tensor[ellipsoid_signed_distances <= 0, 2], c='blue', marker='o')\n",
        "# ax.view_init(elev= 0, azim=0)\n",
        "plt.show()"
      ]
    },
    {
      "attachments": {},
      "cell_type": "markdown",
      "metadata": {},
      "source": [
        "# Link - exact "
      ]
    },
    {
      "cell_type": "code",
      "execution_count": 5,
      "metadata": {},
      "outputs": [],
      "source": [
        "def sdLink(p, le, r1, r2, center, angles):\n",
        "    '''\n",
        "    le: link length\n",
        "    r1: radius of the first cylinder\n",
        "    r2: radius of the second cylinder\n",
        "    '''\n",
        "    no_points = p.shape[0]\n",
        "    p = rotate_xyz(p, angles)\n",
        "    p = p - center\n",
        "    t1 = torch.max(torch.abs(p[:,1]).unsqueeze(1) -le, torch.tensor([0.0]))              \n",
        "    q = torch.cat((p[:, 0].unsqueeze(1), t1, p[:,2].unsqueeze(1)), dim=1)\n",
        "    t2 = torch.norm(q[:, 0:2], dim=1).reshape(no_points, 1) - r1\n",
        "    t3 = torch.cat((t2, q[:, 2].unsqueeze(1)), dim = 1)\n",
        "    temp2 = torch.norm(t3, dim=1).reshape(no_points, 1) - r2\n",
        "    return temp2.squeeze()"
      ]
    },
    {
      "cell_type": "code",
      "execution_count": 54,
      "metadata": {},
      "outputs": [],
      "source": [
        "le = torch.FloatTensor([2])\n",
        "r1 = torch.FloatTensor([1.5])\n",
        "r2 = torch.FloatTensor([1])\n",
        "center = torch.FloatTensor([0, 0, 0])\n",
        "angles = torch.FloatTensor([0, 0, 0])\n",
        "p = torch.FloatTensor([[1,2,3], [4,-0.5,6], [7,8,9], [10,11,12]])\n",
        "link_signed_distances = sdLink(reshaped_tensor, le, r1, r2, center, angles)"
      ]
    },
    {
      "cell_type": "code",
      "execution_count": null,
      "metadata": {},
      "outputs": [],
      "source": [
        "fig = plt.figure()\n",
        "ax = fig.add_subplot(111, projection='3d')\n",
        "ax.scatter(reshaped_tensor[link_signed_distances <= 0, 0], reshaped_tensor[link_signed_distances <= 0,1], reshaped_tensor[link_signed_distances <= 0, 2], c='blue', marker='o')\n",
        "ax.set_xlabel('X')\n",
        "ax.set_ylabel('Y')\n",
        "ax.set_zlabel('Z')\n",
        "ax.view_init(elev= 80, azim=10)\n",
        "plt.show()"
      ]
    },
    {
      "attachments": {},
      "cell_type": "markdown",
      "metadata": {},
      "source": [
        "# SDF Scene"
      ]
    },
    {
      "cell_type": "code",
      "execution_count": 23,
      "metadata": {},
      "outputs": [],
      "source": [
        "def sdScene(parameters):\n",
        "    final_signed_distances = []\n",
        "    num_shapes = 2\n",
        "\n",
        "    # sphere 1\n",
        "    r=0.8\n",
        "    center = parameters[0, 0:3]\n",
        "    angles = parameters[0, 3:6]\n",
        "    sphere1_signed_distances = sdf_sphere(reshaped_tensor, r, center, angles)\n",
        "    final_signed_distances.append(sphere1_signed_distances)\n",
        "\n",
        "    # sphere 2\n",
        "    r=1\n",
        "    center = parameters[1, 0:3]\n",
        "    angles = parameters[1, 3:6]\n",
        "    sphere1_signed_distances = sdf_sphere(reshaped_tensor, r, center, angles)\n",
        "    final_signed_distances.append(sphere1_signed_distances)\n",
        "    \n",
        "    # sphere 3\n",
        "    r=1\n",
        "    center = parameters[2, 0:3]\n",
        "    angles = parameters[2, 3:6]\n",
        "    sphere1_signed_distances = sdf_sphere(reshaped_tensor, r, center, angles)\n",
        "    final_signed_distances.append(sphere1_signed_distances)\n",
        "    \n",
        "    # sphere 4\n",
        "    r=1\n",
        "    center = parameters[3, 0:3]\n",
        "    angles = parameters[3, 3:6]\n",
        "    sphere1_signed_distances = sdf_sphere(reshaped_tensor, r, center, angles)\n",
        "    final_signed_distances.append(sphere1_signed_distances)\n",
        "\n",
        "    # sphere 5\n",
        "    r=1\n",
        "    center = parameters[4, 0:3]\n",
        "    angles = parameters[4, 3:6]\n",
        "    sphere1_signed_distances = sdf_sphere(reshaped_tensor, r, center, angles)\n",
        "    final_signed_distances.append(sphere1_signed_distances)\n",
        "\n",
        "    # link 1\n",
        "    le = torch.FloatTensor([0.7])\n",
        "    r1 = torch.FloatTensor([0.375])\n",
        "    r2 = torch.FloatTensor([0.20])\n",
        "    center = parameters[1, 0:3]\n",
        "    angles = parameters[1, 3:6]\n",
        "    link1_signed_distances = sdLink(reshaped_tensor, le, r1, r2, center, angles)\n",
        "    final_signed_distances.append(link1_signed_distances)\n",
        "\n",
        "    return num_shapes, final_signed_distances"
      ]
    },
    {
      "cell_type": "code",
      "execution_count": 7,
      "metadata": {},
      "outputs": [],
      "source": [
        "\n",
        "def define_shape(points_2d):\n",
        "    # Define the vertices of the triangle\n",
        "    vertices = [(-6, -6), (6, 0), (0, 6)]\n",
        "\n",
        "    # Create a Path object from the vertices\n",
        "    triangle = Path(vertices)\n",
        "\n",
        "    # Check if each point is inside or outside the triangle\n",
        "    # inside = triangle.contains_points(points_2d.iloc[:, 0:2])\n",
        "    inside = triangle.contains_points(points_2d)\n",
        "    inside = inside.astype(float)\n",
        "    inside = torch.tensor(inside)\n",
        "    \n",
        "    # returns the (points_2d x 1) tensor having values 1 if the point is inside the triangle and 0 otherwise\n",
        "    return inside"
      ]
    },
    {
      "cell_type": "code",
      "execution_count": 8,
      "metadata": {},
      "outputs": [
        {
          "data": {
            "text/plain": [
              "torch.Size([6400, 2])"
            ]
          },
          "execution_count": 8,
          "metadata": {},
          "output_type": "execute_result"
        }
      ],
      "source": [
        "point_xy = reshaped_tensor[:, 0:2]\n",
        "point_xy = torch.unique(point_xy, dim=0)\n",
        "point_xy.shape"
      ]
    },
    {
      "cell_type": "code",
      "execution_count": 9,
      "metadata": {},
      "outputs": [
        {
          "data": {
            "text/plain": [
              "torch.Size([6400, 3])"
            ]
          },
          "execution_count": 9,
          "metadata": {},
          "output_type": "execute_result"
        }
      ],
      "source": [
        "inside = define_shape(point_xy)\n",
        "inside.shape\n",
        "pts_inside = torch.cat([point_xy, inside.reshape(point_xy.shape[0], 1)], dim=1)\n",
        "pts_inside.shape"
      ]
    },
    {
      "cell_type": "code",
      "execution_count": 10,
      "metadata": {},
      "outputs": [],
      "source": [
        "def get_union(final_signed_distances):\n",
        "    # stacked_final_signed_distances is (num_points, num_shapes)\n",
        "    stacked_final_signed_distances = torch.stack(final_signed_distances, dim=0)\n",
        "    \n",
        "    # stacked_final_signed_distances_01 = torch.where(stacked_final_signed_distances <= 0, torch.tensor(1), torch.tensor(0))\n",
        "    union_sdf = torch.min(stacked_final_signed_distances, dim=0)[0]\n",
        "    union_sdf_01 = torch.where(union_sdf <= 0, torch.tensor(1), torch.tensor(0))\n",
        "    print('union_sdf.shape: ', union_sdf_01.shape)\n",
        "    print('union_sdf: ', union_sdf_01)\n",
        "    return union_sdf_01"
      ]
    },
    {
      "cell_type": "code",
      "execution_count": 11,
      "metadata": {},
      "outputs": [],
      "source": [
        "# for final_signed_distances is a tensor of shape (num_points, num_shapes)\n",
        "def project_union_sdf2(final_signed_distances):\n",
        "    union_sdf = torch.min(final_signed_distances, dim=1)[0]\n",
        "    reshaped_tensor_union = torch.cat([reshaped_tensor, union_sdf.reshape(reshaped_tensor.shape[0], 1)], dim=1)\n",
        "    point_xy_union = torch.cat([point_xy, torch.zeros(point_xy.shape[0], 1)], dim=1)\n",
        "\n",
        "    j = 0\n",
        "    for i in range(0, reshaped_tensor_union.shape[0], axis_num_pts):\n",
        "        point_xy_union[j, 2] = 1 if (reshaped_tensor_union[i:i+axis_num_pts, 3].min(dim=0)[0] < 0) else 0\n",
        "        j += 1\n",
        "    \n",
        "    # returns (n2d x 3) whose 3rd column is 1 if the point is inside the union, 0 otherwise \n",
        "    return point_xy_union\n",
        "\n",
        "# # for final_signed_distances is list\n",
        "# def project_union_sdf2(final_signed_distances):\n",
        "#     stacked_final_signed_distances = torch.stack(final_signed_distances, dim=0)\n",
        "#     union_sdf = torch.min(stacked_final_signed_distances, dim=0)[0]\n",
        "#     reshaped_tensor_union = torch.cat([reshaped_tensor, union_sdf.reshape(reshaped_tensor.shape[0], 1)], dim=1)\n",
        "#     point_xy_union = torch.cat([point_xy, torch.zeros(point_xy.shape[0], 1)], dim=1)\n",
        "\n",
        "#     j = 0\n",
        "#     for i in range(0, reshaped_tensor_union.shape[0], axis_num_pts):\n",
        "#         point_xy_union[j, 2] = 1 if (reshaped_tensor_union[i:i+axis_num_pts, 3].min(dim=0)[0] < 0) else 0\n",
        "#         j += 1\n",
        "#     # returns (n2d x 3) whose 3rd column is 1 if the point is inside the union, 0 otherwise \n",
        "#     return point_xy_union"
      ]
    },
    {
      "cell_type": "code",
      "execution_count": 13,
      "metadata": {},
      "outputs": [],
      "source": [
        "def plot_union(parameters):\n",
        "    # visualize original union sdf before optimization\n",
        "    num_shapes, final_signed_distances = sdScene(parameters)\n",
        "    stacked_final_signed_distances = torch.stack(final_signed_distances, dim=0)\n",
        "    union_sdf = torch.min(stacked_final_signed_distances, dim=0)[0]\n",
        "\n",
        "    fig = plt.figure()\n",
        "    ax = fig.add_subplot(111, projection='3d')\n",
        "    ax.scatter(reshaped_tensor[union_sdf <= 0, 0], reshaped_tensor[union_sdf <= 0,1], reshaped_tensor[union_sdf <= 0, 2], c='blue', marker='o')\n",
        "    ax.set_xlabel('X')\n",
        "    ax.set_ylabel('Y')\n",
        "    ax.set_zlabel('Z')\n",
        "    # ax.view_init(elev= 90, azim=-90)\n",
        "    plt.show()"
      ]
    },
    {
      "cell_type": "code",
      "execution_count": 14,
      "metadata": {},
      "outputs": [],
      "source": [
        "def plot_intersections(parameters):\n",
        "    # get intersection matrix and plot intersections\n",
        "    num_shapes, final_signed_distances = sdScene(parameters)\n",
        "    intersection_mat = [[None for _ in range(num_shapes)] for _ in range(num_shapes)]       # creating empty list of lists of size num_shapes x num_shape\n",
        "    fig = plt.figure(figsize=(10, 10))  # create a figure object\n",
        "    for i in range(num_shapes):\n",
        "        for j in range(i+1, num_shapes):\n",
        "            intersection_mat[i][j] = torch.max(final_signed_distances[i], final_signed_distances[j])\n",
        "            ax = fig.add_subplot(num_shapes, num_shapes, i*num_shapes+j+1, projection='3d')\n",
        "            ax.scatter(reshaped_tensor[intersection_mat[i][j] <= 0, 0], reshaped_tensor[intersection_mat[i][j] <= 0,1], reshaped_tensor[intersection_mat[i][j] <= 0, 2], c='blue', marker='o')\n",
        "            \n",
        "    # Set horizontal and vertical space between subplots\n",
        "    plt.subplots_adjust(hspace=0.4, wspace=0.4)\n",
        "    plt.show()"
      ]
    },
    {
      "cell_type": "code",
      "execution_count": 15,
      "metadata": {},
      "outputs": [],
      "source": [
        "def plot_shape(parameters):\n",
        "    fig = plt.figure()\n",
        "    ax = fig.add_subplot(111)\n",
        "    ax.scatter(point_xy[inside > 0, 0], point_xy[inside > 0,1], c='blue', marker='o')\n",
        "    # ax.view_init(elev= 80, azim=10)\n",
        "    plt.show()\n",
        "    "
      ]
    },
    {
      "cell_type": "code",
      "execution_count": 16,
      "metadata": {},
      "outputs": [],
      "source": [
        "def calulate_loss(parameters):\n",
        "    intersection_loss = 0\n",
        "    num_shapes, final_signed_distances = sdScene(parameters)\n",
        "    final_signed_distances = torch.stack(final_signed_distances, dim = 1)\n",
        "    print('final_signed_distances.shape: ', final_signed_distances.shape)\n",
        "\n",
        "    intersection_mat = [[None for _ in range(num_shapes)] for _ in range(num_shapes)] # creating empty list of lists of size num_shapes x num_shape\n",
        "    for i in range(num_shapes):\n",
        "        for j in range(i+1, num_shapes):\n",
        "            intersection_mat[i][j] = torch.max(final_signed_distances[:, i], final_signed_distances[:, j])\n",
        "            intersection_loss += torch.sum(intersection_mat[i][j][intersection_mat[i][j] <= 0])\n",
        "\n",
        "    intersection_loss = - intersection_loss/num_shapes\n",
        "    print('Intersection Loss: ', intersection_loss)\n",
        "    \n",
        "    projection_loss = torch.square(project_union_sdf2(final_signed_distances.clone().detach().requires_grad_(True))[:, 2].clone().detach().requires_grad_(True) - inside).sum()\n",
        "    print('Projection Loss: ', projection_loss, '\\n')\n",
        "    w1 = 1\n",
        "    w2 = 1\n",
        "    loss = w1*intersection_loss + w2*projection_loss\n",
        "    return loss.float()"
      ]
    },
    {
      "cell_type": "code",
      "execution_count": null,
      "metadata": {},
      "outputs": [],
      "source": [
        "parameters = [[0.5,0.5,0.5,0,0,0], [2.5,0.5,0.5,0,0,0], [-2.5, -1, 2,0,0,0], [1,3,3,0,0,0], [-1, -3, 0.5,0,0,0], [3, 3, 3,0,0,0]]\n",
        "parameters = torch.tensor(parameters, dtype=torch.float32, requires_grad=True)\n",
        "plot_intersections(parameters)\n",
        "plot_union(parameters)\n",
        "plot_shape(parameters)\n",
        "optimizer = torch.optim.Adam([parameters], lr=0.05)\n",
        "\n",
        "for i in range(0):\n",
        "    optimizer.zero_grad()\n",
        "    loss = calulate_loss(parameters)\n",
        "    loss.backward()\n",
        "\n",
        "    print('Gradients:')\n",
        "    for name, param in parameters.named_parameters():\n",
        "        if param.grad is not None:\n",
        "            print(name, param.grad.norm(2).item())\n",
        "\n",
        "    print(\"Gradient before update:\", parameters.grad)\n",
        "    optimizer.step()\n",
        "    print(\"Gradient before update:\", parameters.grad)\n",
        "    if(i%2 == 0):\n",
        "        print(loss)\n",
        "        print(parameters)\n",
        "\n",
        "plot_intersections(parameters)\n",
        "plot_union(parameters)"
      ]
    }
  ],
  "metadata": {
    "colab": {
      "provenance": []
    },
    "kernelspec": {
      "display_name": "Python 3",
      "name": "python3"
    },
    "language_info": {
      "codemirror_mode": {
        "name": "ipython",
        "version": 3
      },
      "file_extension": ".py",
      "mimetype": "text/x-python",
      "name": "python",
      "nbconvert_exporter": "python",
      "pygments_lexer": "ipython3",
      "version": "3.9.13"
    }
  },
  "nbformat": 4,
  "nbformat_minor": 0
}
